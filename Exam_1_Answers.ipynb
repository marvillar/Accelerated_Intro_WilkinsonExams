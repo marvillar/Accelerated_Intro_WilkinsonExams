{
 "cells": [
  {
   "cell_type": "markdown",
   "metadata": {},
   "source": [
    "# Exam 1 - Problems (Sept 7)"
   ]
  },
  {
   "cell_type": "markdown",
   "metadata": {},
   "source": [
    "## Problem 1  \n",
    "\n",
    "0. Open a jupyter notebook\n",
    "1. File > New Notebook > Bash\n",
    "2. I renamed the notebook as \"Exam_1_Answers\"\n"
   ]
  },
  {
   "cell_type": "markdown",
   "metadata": {},
   "source": [
    "## Problem 2\n",
    "\n"
   ]
  },
  {
   "cell_type": "code",
   "execution_count": null,
   "metadata": {},
   "outputs": [],
   "source": [
    "echo \"_________________________________________________________\"\n",
    "echo \n",
    "echo \"Prooving where I am\" \n",
    "\n",
    "a=/home/osboxes/Course/MVP_Accelerated_Intro_WilkinsonExams\n",
    "#pwd\n",
    "echo   \n",
    "if pwd=a \n",
    "then \n",
    "    echo \"YOU ARE AT THE CORRECT PLACE! :D\" \n",
    "else echo \"YOU GET LOST. Before start check the root where you are D:\"\n",
    "fi\n",
    "echo \"_________________________________________________________\"\n",
    "echo \n",
    "echo \"Directory listing showing ownership (first column) and file-shize (fourth column...)\"\n",
    "# In human readable (but not all are in Megabytes)\n",
    "#ls -lh\n",
    "#Now in Megabytes\n",
    "ls -l --block-size=M \n",
    "echo \n",
    "echo \"Directory listing showing just the file indicated before\"\n",
    "ls -l --block-size=M | grep MVP_Locus*\n"
   ]
  },
  {
   "cell_type": "markdown",
   "metadata": {},
   "source": [
    "#2.0 **Before to start** I would like to proove that I'm at the correct place (pwd command). Then I create a conditional command thats shows if you are at the coorrect place (predictable you are). I guess this will work just on me, because the root that I use is my folder root created in my location. \n",
    "\n",
    "**echo** to display lines \"text that you want to display\"\n",
    "**a=** to define \"a\"\n",
    "**if** something happens **then** say (echo) something or if not **else**\n",
    "say another thing (echo). \n",
    "\n",
    "#2.1 **Create a directory listing comand**\n",
    "\n",
    "**ls** (list style) + **-l**(list) + **h**(human size). The problem indicates Megabytes so i used the command **--block-size=M** to force the file size in megabytes.\n",
    "\n",
    "#2.3 **Permissions**\n",
    "\n",
    "* Users (-rw): read and write\n",
    "* Groups (rw-): read and write\n",
    "* Anyone (--r): just read\n",
    "==> No one have executable permissions because it is a txt file. \n",
    "\n",
    "*I never use this before, but just because I'm curious I found on internet some comands that makes me happy (probablly that makes happy just to the owner folder (to me). This is because I wrote my root at the parameters, I really don't know how it will work after I push the document I will look it after the exam). Sorry in advance if that disturbs the exam correction.*"
   ]
  },
  {
   "cell_type": "markdown",
   "metadata": {},
   "source": [
    "## Problem 3\n",
    "\n"
   ]
  },
  {
   "cell_type": "code",
   "execution_count": null,
   "metadata": {
    "scrolled": true
   },
   "outputs": [],
   "source": [
    "head -1 Locus_Germplasm_Phenotype_20130122.txt\n"
   ]
  },
  {
   "cell_type": "markdown",
   "metadata": {},
   "source": [
    "**head** (see the head lines) **-1** (just the first one) **filename.extension** (in this case Locus_Germplasm_Phenotype_20130122.txt)"
   ]
  },
  {
   "cell_type": "markdown",
   "metadata": {},
   "source": [
    "\n",
    "## Problem 4"
   ]
  },
  {
   "cell_type": "code",
   "execution_count": null,
   "metadata": {},
   "outputs": [],
   "source": [
    "wc -l Locus_Germplasm_Phenotype_20130122.txt \n"
   ]
  },
  {
   "cell_type": "markdown",
   "metadata": {},
   "source": [
    "**wc** Word count **-l** just the number of lines **filename.extension** (in this case Locus_Germplasm_Phenotype_20130122.txt)."
   ]
  },
  {
   "cell_type": "markdown",
   "metadata": {},
   "source": [
    "\n",
    "## Problem 5"
   ]
  },
  {
   "cell_type": "code",
   "execution_count": null,
   "metadata": {},
   "outputs": [],
   "source": [
    "echo \"- Expected number of data (lines at Locus_Germplasm_Phenotype_20130122 excluding header)\"\n",
    "a= cat Locus_Germplasm_Phenotype_20130122.txt | grep -inav Locus_name | wc -l\n",
    "#echo \"Creating new data file called Data_Only.csv...\"\n",
    "cat Locus_Germplasm_Phenotype_20130122.txt | grep -E -iav Locus_name > Data_Only.csv\n",
    "echo \"- Real number of lines of the new file created Data.Only.csv\"\n",
    "b= wc -l Data_Only.csv\n",
    "if a=b \n",
    "then echo \"==> The output file has the expected number of lines\" \n",
    "else echo \"==> The output file not has the expected number of lines \" \n",
    "fi\n"
   ]
  },
  {
   "cell_type": "markdown",
   "metadata": {},
   "source": [
    "I saw the data on Pico (in the terminal!) for check if all lines = data. I saw that they have a different accesion name with different structures (AT...STA...LIT..) Because all of them are data I **grep** them and copy all (**>**) of them (excluding the header) (**>**) in a new file called Data.Only.csv. I used an if/else command again to proove that both numbers are the same (Explained before).\n",
    "\n",
    "==> **cat** tale the whole file **filename.extension** (in this case Locus_Germplasm_Phenotype_20130122.txt) **\"|\"** pipe from the file that it's indicate before **grep** select **-E** with extensions **-i** insensitive case **-n** show me the line number **-a** I do not know the original source of the file, because of that I use -a to handle binary files like text **-v** invert (take all except the header \"Locus_name\"). Copy and create a new data file (**>**) named Data.Only.csv"
   ]
  },
  {
   "cell_type": "markdown",
   "metadata": {},
   "source": [
    "## Problem 6\n"
   ]
  },
  {
   "cell_type": "code",
   "execution_count": null,
   "metadata": {},
   "outputs": [],
   "source": [
    "##If the problem strictly refers to the string \"root\"\n",
    "#grep -E -an \"\\sroot\\s\" Locus_Germplasm_Phenotype_20130122.txt \n",
    "## In other words with this command we are able to isolated the exacly the string \"root\" (preceded and followed by space), case sensitive (without -i). \n",
    "echo \"From a biological point of view the information that we can obtain with this command (silenced by #) has not much sense, because of this reason I choose the option that follows.\" \n",
    "\n",
    "echo \"If the problem refers to the meaning of root and root-related we must include every root word: plural, capital letters, and related terms (root + .,;/)\"\n",
    "grep -E -ina \"root\" Locus_Germplasm_Phenotype_20130122.txt \n",
    "\n"
   ]
  },
  {
   "cell_type": "markdown",
   "metadata": {},
   "source": [
    "## Problem 7"
   ]
  },
  {
   "cell_type": "code",
   "execution_count": null,
   "metadata": {},
   "outputs": [],
   "source": [
    "# First I create a new file just with the root information\n",
    "grep -E -ia \"root\" Locus_Germplasm_Phenotype_20130122.txt > Root_Locus_Germplasm_Phenotype_20130122.txt\n",
    "# Then I create a grep command into this file and then select every AGI Locus Code\n",
    "cat Root_Locus_Germplasm_Phenotype_20130122.txt | grep -E -ioa \"^A\\T[1-5]\\G\\w{5}\" > Root-associated-Loci.txt\n",
    "head -5 Root-associated-Loci.txt \n",
    "tail -5 Root-associated-Loci.txt\n",
    "wc -l Root-associated-Loci.txt\n",
    "\n"
   ]
  },
  {
   "cell_type": "markdown",
   "metadata": {},
   "source": [
    "**grep** I want to save the root information into a new file (It is no need but for me its more clear). In this file I copy all the \"root information available\" for that I need everything that contains the word \"root\" because we want to know everything that affects the root system. \n",
    "**cat** show me the entire filename.extension | pipe and select **grep** with extensions **-E** **-iao** non case sensitive, just in case has binary information and show me only the word that follows. \"**^** string at the beginning of the line starting by **A** (A or a) \\ followed by a **T** (T or t) followed by  **[1-5]** a number between 1 to 5 (included) \\**G** (G or g) \\**w** (whole word)**{5}** (five times) and creates a new file > called Root-associated-Loci.\n",
    "\n",
    "\n",
    "Then I wanted to have a look if everything is OK at the new file created. I did it with the command head and tail (to see the beginning and the end of the document). After that, I counted the number of cases that has \"root affections\" with the command wc -l (by counting the lines) "
   ]
  },
  {
   "cell_type": "markdown",
   "metadata": {},
   "source": [
    "## Problem 8"
   ]
  },
  {
   "cell_type": "code",
   "execution_count": null,
   "metadata": {
    "scrolled": true
   },
   "outputs": [],
   "source": [
    "cat Root_Locus_Germplasm_Phenotype_20130122.txt | grep -E -ioa '\\s[0-9]+$' > Root-associated-Publications.txt\n",
    "head -5 Root-associated-Publications.txt\n",
    "tail -5 Root-associated-Publications.txt\n",
    "wc -l Root-associated-Publications.txt\n",
    "#rm -r Root-associated-Publications.txt\n"
   ]
  },
  {
   "cell_type": "markdown",
   "metadata": {},
   "source": [
    "In this case I grep (o)nly the non case sensitive cases (-io) that maches with every id numer [0,9] peceded by space (\\s) no mather how long (+) wich is at the end of a line ($). Then, with this data, I created a new file (>) called Root-associated-Publications.txt.\n",
    "\n",
    "Then I wanted to have a look if everything is OK at the new file that has been created. For that, I used the head and tail command (to show the beginning and the end of the document). After that, I count the number of cases that has Pudmed ID with the word count command wc -l (by counting the lines)."
   ]
  },
  {
   "cell_type": "markdown",
   "metadata": {},
   "source": [
    "\n",
    "## Problem 9"
   ]
  },
  {
   "cell_type": "code",
   "execution_count": null,
   "metadata": {
    "scrolled": true
   },
   "outputs": [],
   "source": [
    "echo \"Total number of cases\"\n",
    "cat Root-associated-Loci.txt | wc -l \n",
    "\n",
    "echo \"Number of cases (Chromosome 1)\"\n",
    "cat Root-associated-Loci.txt | grep -E -inoa '\\A\\T[1]' | wc -l \n",
    "cat Root-associated-Loci.txt | grep -E -inoa '\\A\\T[1]' > subtotal.txt\n",
    "\n",
    "echo \"Number of cases (Chromosome 2)\"\n",
    "cat Root-associated-Loci.txt | grep -E -inoa '\\A\\T[2]' | wc -l \n",
    "cat Root-associated-Loci.txt | grep -E -inoa '\\A\\T[2]' >> subtotal.txt\n",
    "\n",
    "echo \"Number of cases (Chromosome 3)\"\n",
    "cat Root-associated-Loci.txt | grep -E -inoa '\\A\\T[3]' | wc -l \n",
    "cat Root-associated-Loci.txt | grep -E -inoa '\\A\\T[3]' >> subtotal.txt\n",
    "\n",
    "echo \"Number of cases (Chromosome 4)\"\n",
    "cat Root-associated-Loci.txt | grep -E -inoa '\\A\\T[4]' | wc -l\n",
    "cat Root-associated-Loci.txt | grep -E -inoa '\\A\\T[4]' >> subtotal.txt\n",
    "\n",
    "echo \"Number of cases (Chromosome 5)\"\n",
    "cat Root-associated-Loci.txt | grep -E -inoa '\\A\\T[5]' | wc -l\n",
    "cat Root-associated-Loci.txt | grep -E -inoa '\\A\\T[5]' >> subtotal.txt\n",
    "\n",
    "echo \"Comprobation\"\n",
    "wc -l Root-associated-Loci.txt\n",
    "echo \"equal\" \n",
    "wc -l subtotal.txt  "
   ]
  },
  {
   "cell_type": "markdown",
   "metadata": {},
   "source": [
    "\"You would hypothesize that genes associated with roots should be found on all chromosomes\" Yes I would do it,the reason is because I found \"root affected\" organisms represented in all the chromosomes.\n",
    "\n",
    "COMPROBATION\n",
    "I created a (long) command to search in the \"Root-associated-Loci-txt\" for each chromosome '\\A\\T[1]'(chromosome 1) (..) to Chromosome 5 (indepently, five times). I tried to create variables (a,b,c,d,e,f..) but I didn't find the way, I dont know to math either .. But! I know how to create new files and add information at the end (>>) and then I know how to count their lines! Through this way I can proove that all the cases (total number of cases) are represented and there is not a lack of information due to the process.\n",
    "\n"
   ]
  },
  {
   "cell_type": "markdown",
   "metadata": {},
   "source": [
    "## Problem 10"
   ]
  },
  {
   "cell_type": "markdown",
   "metadata": {},
   "source": [
    "\n",
    "## Problem 11\n",
    "\n",
    "* 'git commit' and 'git push' your answers to your GitHub, then give me your GitHub username before you leave the class. I will clone your repositories and grade your answers."
   ]
  }
 ],
 "metadata": {
  "kernelspec": {
   "display_name": "Bash",
   "language": "bash",
   "name": "bash"
  },
  "language_info": {
   "codemirror_mode": "shell",
   "file_extension": ".sh",
   "mimetype": "text/x-sh",
   "name": "bash"
  }
 },
 "nbformat": 4,
 "nbformat_minor": 2
}
